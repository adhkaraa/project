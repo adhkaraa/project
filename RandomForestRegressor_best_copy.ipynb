{
  "cells": [
    {
      "cell_type": "code",
      "execution_count": null,
      "metadata": {
        "id": "3sUqdPz-S3Za"
      },
      "outputs": [],
      "source": [
        "import pandas as pd"
      ]
    },
    {
      "cell_type": "code",
      "execution_count": null,
      "metadata": {
        "id": "nMxhUmj9S3Ze"
      },
      "outputs": [],
      "source": [
        "df_train = pd.read_csv('data_training.csv', sep=';')"
      ]
    },
    {
      "cell_type": "code",
      "execution_count": null,
      "metadata": {
        "id": "bSocV88TS3Zf",
        "outputId": "6eb9fe05-fba2-4ec4-ce56-74b1a0f918de"
      },
      "outputs": [
        {
          "name": "stdout",
          "output_type": "stream",
          "text": [
            "<class 'pandas.core.frame.DataFrame'>\n",
            "RangeIndex: 429999 entries, 0 to 429998\n",
            "Data columns (total 4 columns):\n",
            " #   Column  Non-Null Count   Dtype \n",
            "---  ------  --------------   ----- \n",
            " 0   Date    429999 non-null  object\n",
            " 1   X1      429999 non-null  object\n",
            " 2   X2      411191 non-null  object\n",
            " 3   Y       429999 non-null  int64 \n",
            "dtypes: int64(1), object(3)\n",
            "memory usage: 13.1+ MB\n"
          ]
        }
      ],
      "source": [
        "df_train.info()"
      ]
    },
    {
      "cell_type": "code",
      "execution_count": null,
      "metadata": {
        "id": "RcKYY4UdS3Zg",
        "outputId": "aed2ad57-552c-4c6f-b268-7cc938963556"
      },
      "outputs": [
        {
          "data": {
            "text/html": [
              "<div>\n",
              "<style scoped>\n",
              "    .dataframe tbody tr th:only-of-type {\n",
              "        vertical-align: middle;\n",
              "    }\n",
              "\n",
              "    .dataframe tbody tr th {\n",
              "        vertical-align: top;\n",
              "    }\n",
              "\n",
              "    .dataframe thead th {\n",
              "        text-align: right;\n",
              "    }\n",
              "</style>\n",
              "<table border=\"1\" class=\"dataframe\">\n",
              "  <thead>\n",
              "    <tr style=\"text-align: right;\">\n",
              "      <th></th>\n",
              "      <th>Date</th>\n",
              "      <th>X1</th>\n",
              "      <th>X2</th>\n",
              "      <th>Y</th>\n",
              "    </tr>\n",
              "  </thead>\n",
              "  <tbody>\n",
              "    <tr>\n",
              "      <th>0</th>\n",
              "      <td>07/01/12</td>\n",
              "      <td></td>\n",
              "      <td>NaN</td>\n",
              "      <td>71864183015</td>\n",
              "    </tr>\n",
              "    <tr>\n",
              "      <th>1</th>\n",
              "      <td>07/01/12</td>\n",
              "      <td></td>\n",
              "      <td>A</td>\n",
              "      <td>32640358590</td>\n",
              "    </tr>\n",
              "    <tr>\n",
              "      <th>2</th>\n",
              "      <td>07/01/12</td>\n",
              "      <td></td>\n",
              "      <td>B</td>\n",
              "      <td>30845698143</td>\n",
              "    </tr>\n",
              "    <tr>\n",
              "      <th>3</th>\n",
              "      <td>07/01/12</td>\n",
              "      <td></td>\n",
              "      <td>C</td>\n",
              "      <td>39580783266</td>\n",
              "    </tr>\n",
              "    <tr>\n",
              "      <th>4</th>\n",
              "      <td>07/01/12</td>\n",
              "      <td></td>\n",
              "      <td>D</td>\n",
              "      <td>30442401289</td>\n",
              "    </tr>\n",
              "  </tbody>\n",
              "</table>\n",
              "</div>"
            ],
            "text/plain": [
              "       Date X1   X2            Y\n",
              "0  07/01/12     NaN  71864183015\n",
              "1  07/01/12       A  32640358590\n",
              "2  07/01/12       B  30845698143\n",
              "3  07/01/12       C  39580783266\n",
              "4  07/01/12       D  30442401289"
            ]
          },
          "execution_count": 30,
          "metadata": {},
          "output_type": "execute_result"
        }
      ],
      "source": [
        "df_train.head(5)"
      ]
    },
    {
      "cell_type": "code",
      "execution_count": null,
      "metadata": {
        "id": "u8eeWnMHS3Zg"
      },
      "outputs": [],
      "source": [
        "df_train.drop(columns=['Date'], inplace=True)"
      ]
    },
    {
      "cell_type": "code",
      "execution_count": null,
      "metadata": {
        "id": "u7mO0MunS3Zh",
        "outputId": "2343a1d7-bccb-4605-f95d-faded709300d"
      },
      "outputs": [
        {
          "data": {
            "text/html": [
              "<div>\n",
              "<style scoped>\n",
              "    .dataframe tbody tr th:only-of-type {\n",
              "        vertical-align: middle;\n",
              "    }\n",
              "\n",
              "    .dataframe tbody tr th {\n",
              "        vertical-align: top;\n",
              "    }\n",
              "\n",
              "    .dataframe thead th {\n",
              "        text-align: right;\n",
              "    }\n",
              "</style>\n",
              "<table border=\"1\" class=\"dataframe\">\n",
              "  <thead>\n",
              "    <tr style=\"text-align: right;\">\n",
              "      <th></th>\n",
              "      <th>X1</th>\n",
              "      <th>X2</th>\n",
              "      <th>Y</th>\n",
              "    </tr>\n",
              "  </thead>\n",
              "  <tbody>\n",
              "    <tr>\n",
              "      <th>0</th>\n",
              "      <td></td>\n",
              "      <td>NaN</td>\n",
              "      <td>71864183015</td>\n",
              "    </tr>\n",
              "    <tr>\n",
              "      <th>1</th>\n",
              "      <td></td>\n",
              "      <td>A</td>\n",
              "      <td>32640358590</td>\n",
              "    </tr>\n",
              "    <tr>\n",
              "      <th>2</th>\n",
              "      <td></td>\n",
              "      <td>B</td>\n",
              "      <td>30845698143</td>\n",
              "    </tr>\n",
              "    <tr>\n",
              "      <th>3</th>\n",
              "      <td></td>\n",
              "      <td>C</td>\n",
              "      <td>39580783266</td>\n",
              "    </tr>\n",
              "    <tr>\n",
              "      <th>4</th>\n",
              "      <td></td>\n",
              "      <td>D</td>\n",
              "      <td>30442401289</td>\n",
              "    </tr>\n",
              "  </tbody>\n",
              "</table>\n",
              "</div>"
            ],
            "text/plain": [
              "  X1   X2            Y\n",
              "0     NaN  71864183015\n",
              "1       A  32640358590\n",
              "2       B  30845698143\n",
              "3       C  39580783266\n",
              "4       D  30442401289"
            ]
          },
          "execution_count": 32,
          "metadata": {},
          "output_type": "execute_result"
        }
      ],
      "source": [
        "df_train.head(5)"
      ]
    },
    {
      "cell_type": "code",
      "execution_count": null,
      "metadata": {
        "id": "6iBwPon4S3Zh",
        "outputId": "c04394c1-1208-4066-e653-2f645c43580e"
      },
      "outputs": [
        {
          "data": {
            "text/plain": [
              "X1        0\n",
              "X2    18808\n",
              "Y         0\n",
              "dtype: int64"
            ]
          },
          "execution_count": 33,
          "metadata": {},
          "output_type": "execute_result"
        }
      ],
      "source": [
        "df_train.isnull().sum()"
      ]
    },
    {
      "cell_type": "code",
      "execution_count": null,
      "metadata": {
        "id": "urY8k5V-S3Zh"
      },
      "outputs": [],
      "source": [
        "# df_train = df_train.interpolate(method='bfill')"
      ]
    },
    {
      "cell_type": "code",
      "execution_count": null,
      "metadata": {
        "id": "bWInCitES3Zi"
      },
      "outputs": [],
      "source": [
        "from sklearn.preprocessing import LabelEncoder\n",
        "labelencoder = LabelEncoder()\n",
        "for i in df_train.columns:\n",
        "    if i != 'Y':\n",
        "        if df_train[i].dtypes == object:\n",
        "            df_train[i] = labelencoder.fit_transform(df_train[i])"
      ]
    },
    {
      "cell_type": "code",
      "execution_count": null,
      "metadata": {
        "id": "IpvttySxS3Zi",
        "outputId": "67435ec9-5865-40f6-d640-261790b2111b"
      },
      "outputs": [
        {
          "data": {
            "text/plain": [
              "X1    0\n",
              "X2    0\n",
              "Y     0\n",
              "dtype: int64"
            ]
          },
          "execution_count": 35,
          "metadata": {},
          "output_type": "execute_result"
        }
      ],
      "source": [
        "df_train.isnull().sum()"
      ]
    },
    {
      "cell_type": "code",
      "execution_count": null,
      "metadata": {
        "id": "EQQ2c864S3Zj"
      },
      "outputs": [],
      "source": [
        "df_train['Y'] = df_train['Y'].astype(float) / 10000000000"
      ]
    },
    {
      "cell_type": "code",
      "execution_count": null,
      "metadata": {
        "id": "Bhu1O1TiS3Zj",
        "outputId": "05d2421c-46c6-4d1b-fa30-eae6d1f8a36a"
      },
      "outputs": [
        {
          "data": {
            "text/html": [
              "<div>\n",
              "<style scoped>\n",
              "    .dataframe tbody tr th:only-of-type {\n",
              "        vertical-align: middle;\n",
              "    }\n",
              "\n",
              "    .dataframe tbody tr th {\n",
              "        vertical-align: top;\n",
              "    }\n",
              "\n",
              "    .dataframe thead th {\n",
              "        text-align: right;\n",
              "    }\n",
              "</style>\n",
              "<table border=\"1\" class=\"dataframe\">\n",
              "  <thead>\n",
              "    <tr style=\"text-align: right;\">\n",
              "      <th></th>\n",
              "      <th>X1</th>\n",
              "      <th>X2</th>\n",
              "      <th>Y</th>\n",
              "    </tr>\n",
              "  </thead>\n",
              "  <tbody>\n",
              "    <tr>\n",
              "      <th>0</th>\n",
              "      <td>0</td>\n",
              "      <td>22</td>\n",
              "      <td>7.186418</td>\n",
              "    </tr>\n",
              "    <tr>\n",
              "      <th>1</th>\n",
              "      <td>0</td>\n",
              "      <td>0</td>\n",
              "      <td>3.264036</td>\n",
              "    </tr>\n",
              "    <tr>\n",
              "      <th>2</th>\n",
              "      <td>0</td>\n",
              "      <td>1</td>\n",
              "      <td>3.084570</td>\n",
              "    </tr>\n",
              "    <tr>\n",
              "      <th>3</th>\n",
              "      <td>0</td>\n",
              "      <td>2</td>\n",
              "      <td>3.958078</td>\n",
              "    </tr>\n",
              "    <tr>\n",
              "      <th>4</th>\n",
              "      <td>0</td>\n",
              "      <td>3</td>\n",
              "      <td>3.044240</td>\n",
              "    </tr>\n",
              "    <tr>\n",
              "      <th>5</th>\n",
              "      <td>0</td>\n",
              "      <td>4</td>\n",
              "      <td>2.975792</td>\n",
              "    </tr>\n",
              "    <tr>\n",
              "      <th>6</th>\n",
              "      <td>0</td>\n",
              "      <td>5</td>\n",
              "      <td>3.999781</td>\n",
              "    </tr>\n",
              "    <tr>\n",
              "      <th>7</th>\n",
              "      <td>0</td>\n",
              "      <td>6</td>\n",
              "      <td>7.434890</td>\n",
              "    </tr>\n",
              "    <tr>\n",
              "      <th>8</th>\n",
              "      <td>0</td>\n",
              "      <td>7</td>\n",
              "      <td>3.482118</td>\n",
              "    </tr>\n",
              "    <tr>\n",
              "      <th>9</th>\n",
              "      <td>0</td>\n",
              "      <td>8</td>\n",
              "      <td>3.049072</td>\n",
              "    </tr>\n",
              "    <tr>\n",
              "      <th>10</th>\n",
              "      <td>0</td>\n",
              "      <td>9</td>\n",
              "      <td>3.017558</td>\n",
              "    </tr>\n",
              "    <tr>\n",
              "      <th>11</th>\n",
              "      <td>0</td>\n",
              "      <td>10</td>\n",
              "      <td>4.777750</td>\n",
              "    </tr>\n",
              "    <tr>\n",
              "      <th>12</th>\n",
              "      <td>0</td>\n",
              "      <td>11</td>\n",
              "      <td>3.122780</td>\n",
              "    </tr>\n",
              "    <tr>\n",
              "      <th>13</th>\n",
              "      <td>0</td>\n",
              "      <td>12</td>\n",
              "      <td>3.390515</td>\n",
              "    </tr>\n",
              "    <tr>\n",
              "      <th>14</th>\n",
              "      <td>0</td>\n",
              "      <td>13</td>\n",
              "      <td>3.155278</td>\n",
              "    </tr>\n",
              "    <tr>\n",
              "      <th>15</th>\n",
              "      <td>0</td>\n",
              "      <td>14</td>\n",
              "      <td>3.817019</td>\n",
              "    </tr>\n",
              "    <tr>\n",
              "      <th>16</th>\n",
              "      <td>0</td>\n",
              "      <td>15</td>\n",
              "      <td>3.008938</td>\n",
              "    </tr>\n",
              "    <tr>\n",
              "      <th>17</th>\n",
              "      <td>0</td>\n",
              "      <td>16</td>\n",
              "      <td>3.020325</td>\n",
              "    </tr>\n",
              "    <tr>\n",
              "      <th>18</th>\n",
              "      <td>0</td>\n",
              "      <td>17</td>\n",
              "      <td>2.999823</td>\n",
              "    </tr>\n",
              "    <tr>\n",
              "      <th>19</th>\n",
              "      <td>0</td>\n",
              "      <td>18</td>\n",
              "      <td>3.016089</td>\n",
              "    </tr>\n",
              "    <tr>\n",
              "      <th>20</th>\n",
              "      <td>0</td>\n",
              "      <td>19</td>\n",
              "      <td>2.976168</td>\n",
              "    </tr>\n",
              "    <tr>\n",
              "      <th>21</th>\n",
              "      <td>0</td>\n",
              "      <td>21</td>\n",
              "      <td>3.379953</td>\n",
              "    </tr>\n",
              "    <tr>\n",
              "      <th>22</th>\n",
              "      <td>1</td>\n",
              "      <td>22</td>\n",
              "      <td>2.991216</td>\n",
              "    </tr>\n",
              "    <tr>\n",
              "      <th>23</th>\n",
              "      <td>1</td>\n",
              "      <td>0</td>\n",
              "      <td>3.020191</td>\n",
              "    </tr>\n",
              "    <tr>\n",
              "      <th>24</th>\n",
              "      <td>1</td>\n",
              "      <td>1</td>\n",
              "      <td>2.976621</td>\n",
              "    </tr>\n",
              "    <tr>\n",
              "      <th>25</th>\n",
              "      <td>1</td>\n",
              "      <td>2</td>\n",
              "      <td>3.143975</td>\n",
              "    </tr>\n",
              "    <tr>\n",
              "      <th>26</th>\n",
              "      <td>1</td>\n",
              "      <td>3</td>\n",
              "      <td>2.993375</td>\n",
              "    </tr>\n",
              "    <tr>\n",
              "      <th>27</th>\n",
              "      <td>1</td>\n",
              "      <td>4</td>\n",
              "      <td>2.978108</td>\n",
              "    </tr>\n",
              "    <tr>\n",
              "      <th>28</th>\n",
              "      <td>1</td>\n",
              "      <td>5</td>\n",
              "      <td>6.100841</td>\n",
              "    </tr>\n",
              "    <tr>\n",
              "      <th>29</th>\n",
              "      <td>1</td>\n",
              "      <td>6</td>\n",
              "      <td>3.537837</td>\n",
              "    </tr>\n",
              "    <tr>\n",
              "      <th>30</th>\n",
              "      <td>1</td>\n",
              "      <td>7</td>\n",
              "      <td>3.097236</td>\n",
              "    </tr>\n",
              "    <tr>\n",
              "      <th>31</th>\n",
              "      <td>1</td>\n",
              "      <td>8</td>\n",
              "      <td>2.990213</td>\n",
              "    </tr>\n",
              "    <tr>\n",
              "      <th>32</th>\n",
              "      <td>1</td>\n",
              "      <td>9</td>\n",
              "      <td>2.980225</td>\n",
              "    </tr>\n",
              "    <tr>\n",
              "      <th>33</th>\n",
              "      <td>1</td>\n",
              "      <td>10</td>\n",
              "      <td>3.505192</td>\n",
              "    </tr>\n",
              "    <tr>\n",
              "      <th>34</th>\n",
              "      <td>1</td>\n",
              "      <td>12</td>\n",
              "      <td>3.348728</td>\n",
              "    </tr>\n",
              "    <tr>\n",
              "      <th>35</th>\n",
              "      <td>1</td>\n",
              "      <td>13</td>\n",
              "      <td>2.978578</td>\n",
              "    </tr>\n",
              "    <tr>\n",
              "      <th>36</th>\n",
              "      <td>1</td>\n",
              "      <td>14</td>\n",
              "      <td>5.216387</td>\n",
              "    </tr>\n",
              "    <tr>\n",
              "      <th>37</th>\n",
              "      <td>1</td>\n",
              "      <td>15</td>\n",
              "      <td>3.014112</td>\n",
              "    </tr>\n",
              "    <tr>\n",
              "      <th>38</th>\n",
              "      <td>1</td>\n",
              "      <td>16</td>\n",
              "      <td>2.987980</td>\n",
              "    </tr>\n",
              "    <tr>\n",
              "      <th>39</th>\n",
              "      <td>1</td>\n",
              "      <td>17</td>\n",
              "      <td>2.975326</td>\n",
              "    </tr>\n",
              "    <tr>\n",
              "      <th>40</th>\n",
              "      <td>1</td>\n",
              "      <td>18</td>\n",
              "      <td>2.989796</td>\n",
              "    </tr>\n",
              "    <tr>\n",
              "      <th>41</th>\n",
              "      <td>1</td>\n",
              "      <td>19</td>\n",
              "      <td>2.974505</td>\n",
              "    </tr>\n",
              "    <tr>\n",
              "      <th>42</th>\n",
              "      <td>1</td>\n",
              "      <td>21</td>\n",
              "      <td>2.996302</td>\n",
              "    </tr>\n",
              "    <tr>\n",
              "      <th>43</th>\n",
              "      <td>2</td>\n",
              "      <td>22</td>\n",
              "      <td>3.936350</td>\n",
              "    </tr>\n",
              "    <tr>\n",
              "      <th>44</th>\n",
              "      <td>2</td>\n",
              "      <td>0</td>\n",
              "      <td>3.102596</td>\n",
              "    </tr>\n",
              "    <tr>\n",
              "      <th>45</th>\n",
              "      <td>2</td>\n",
              "      <td>2</td>\n",
              "      <td>5.191476</td>\n",
              "    </tr>\n",
              "    <tr>\n",
              "      <th>46</th>\n",
              "      <td>2</td>\n",
              "      <td>3</td>\n",
              "      <td>3.111587</td>\n",
              "    </tr>\n",
              "    <tr>\n",
              "      <th>47</th>\n",
              "      <td>2</td>\n",
              "      <td>4</td>\n",
              "      <td>3.024895</td>\n",
              "    </tr>\n",
              "    <tr>\n",
              "      <th>48</th>\n",
              "      <td>2</td>\n",
              "      <td>5</td>\n",
              "      <td>3.941797</td>\n",
              "    </tr>\n",
              "    <tr>\n",
              "      <th>49</th>\n",
              "      <td>2</td>\n",
              "      <td>6</td>\n",
              "      <td>9.881829</td>\n",
              "    </tr>\n",
              "  </tbody>\n",
              "</table>\n",
              "</div>"
            ],
            "text/plain": [
              "    X1  X2         Y\n",
              "0    0  22  7.186418\n",
              "1    0   0  3.264036\n",
              "2    0   1  3.084570\n",
              "3    0   2  3.958078\n",
              "4    0   3  3.044240\n",
              "5    0   4  2.975792\n",
              "6    0   5  3.999781\n",
              "7    0   6  7.434890\n",
              "8    0   7  3.482118\n",
              "9    0   8  3.049072\n",
              "10   0   9  3.017558\n",
              "11   0  10  4.777750\n",
              "12   0  11  3.122780\n",
              "13   0  12  3.390515\n",
              "14   0  13  3.155278\n",
              "15   0  14  3.817019\n",
              "16   0  15  3.008938\n",
              "17   0  16  3.020325\n",
              "18   0  17  2.999823\n",
              "19   0  18  3.016089\n",
              "20   0  19  2.976168\n",
              "21   0  21  3.379953\n",
              "22   1  22  2.991216\n",
              "23   1   0  3.020191\n",
              "24   1   1  2.976621\n",
              "25   1   2  3.143975\n",
              "26   1   3  2.993375\n",
              "27   1   4  2.978108\n",
              "28   1   5  6.100841\n",
              "29   1   6  3.537837\n",
              "30   1   7  3.097236\n",
              "31   1   8  2.990213\n",
              "32   1   9  2.980225\n",
              "33   1  10  3.505192\n",
              "34   1  12  3.348728\n",
              "35   1  13  2.978578\n",
              "36   1  14  5.216387\n",
              "37   1  15  3.014112\n",
              "38   1  16  2.987980\n",
              "39   1  17  2.975326\n",
              "40   1  18  2.989796\n",
              "41   1  19  2.974505\n",
              "42   1  21  2.996302\n",
              "43   2  22  3.936350\n",
              "44   2   0  3.102596\n",
              "45   2   2  5.191476\n",
              "46   2   3  3.111587\n",
              "47   2   4  3.024895\n",
              "48   2   5  3.941797\n",
              "49   2   6  9.881829"
            ]
          },
          "execution_count": 37,
          "metadata": {},
          "output_type": "execute_result"
        }
      ],
      "source": [
        "df_train.head(50)"
      ]
    },
    {
      "cell_type": "code",
      "execution_count": null,
      "metadata": {
        "id": "8gLcaYDeS3Zj",
        "outputId": "7f9a7d99-5d59-49ae-be20-94a57e515a23"
      },
      "outputs": [
        {
          "data": {
            "image/png": "[encoded data removed]",
            "text/plain": [
              "<Figure size 1000x1000 with 2 Axes>"
            ]
          },
          "metadata": {},
          "output_type": "display_data"
        }
      ],
      "source": [
        "import seaborn as sns\n",
        "import matplotlib.pyplot as plt\n",
        "plt.figure(figsize=(10,10))\n",
        "sns.heatmap(df_train.corr(),annot=True)\n",
        "plt.show()"
      ]
    },
    {
      "cell_type": "code",
      "execution_count": null,
      "metadata": {
        "id": "Og4VzqbIS3Zj",
        "outputId": "be5cfc38-cd2d-4291-bdf7-aa5a6333aaf6"
      },
      "outputs": [
        {
          "name": "stdout",
          "output_type": "stream",
          "text": [
            "<class 'pandas.core.frame.DataFrame'>\n",
            "RangeIndex: 429999 entries, 0 to 429998\n",
            "Data columns (total 2 columns):\n",
            " #   Column  Non-Null Count   Dtype  \n",
            "---  ------  --------------   -----  \n",
            " 0   X1      429999 non-null  float64\n",
            " 1   X2      429999 non-null  float64\n",
            "dtypes: float64(2)\n",
            "memory usage: 6.6 MB\n",
            "<class 'pandas.core.series.Series'>\n",
            "RangeIndex: 429999 entries, 0 to 429998\n",
            "Series name: Y\n",
            "Non-Null Count   Dtype  \n",
            "--------------   -----  \n",
            "429999 non-null  float64\n",
            "dtypes: float64(1)\n",
            "memory usage: 3.3 MB\n"
          ]
        }
      ],
      "source": [
        "features = ['X1','X2']\n",
        "x = df_train[features]\n",
        "y = df_train['Y']\n",
        "\n",
        "from sklearn.preprocessing import StandardScaler\n",
        "scaler = StandardScaler().fit(x)\n",
        "x= pd.DataFrame(scaler.transform(x),\n",
        "                              columns = x.columns)\n",
        "\n",
        "x.info()\n",
        "y.info()"
      ]
    },
    {
      "cell_type": "code",
      "execution_count": null,
      "metadata": {
        "id": "_8ZzouE7S3Zk",
        "outputId": "cb4fa2ec-fa01-4c7c-e13a-e3eb29863da8"
      },
      "outputs": [
        {
          "data": {
            "text/html": [
              "<div>\n",
              "<style scoped>\n",
              "    .dataframe tbody tr th:only-of-type {\n",
              "        vertical-align: middle;\n",
              "    }\n",
              "\n",
              "    .dataframe tbody tr th {\n",
              "        vertical-align: top;\n",
              "    }\n",
              "\n",
              "    .dataframe thead th {\n",
              "        text-align: right;\n",
              "    }\n",
              "</style>\n",
              "<table border=\"1\" class=\"dataframe\">\n",
              "  <thead>\n",
              "    <tr style=\"text-align: right;\">\n",
              "      <th></th>\n",
              "      <th>X1</th>\n",
              "      <th>X2</th>\n",
              "    </tr>\n",
              "  </thead>\n",
              "  <tbody>\n",
              "    <tr>\n",
              "      <th>0</th>\n",
              "      <td>-1.695028</td>\n",
              "      <td>1.708491</td>\n",
              "    </tr>\n",
              "    <tr>\n",
              "      <th>1</th>\n",
              "      <td>-1.695028</td>\n",
              "      <td>-1.644549</td>\n",
              "    </tr>\n",
              "    <tr>\n",
              "      <th>2</th>\n",
              "      <td>-1.695028</td>\n",
              "      <td>-1.492138</td>\n",
              "    </tr>\n",
              "    <tr>\n",
              "      <th>3</th>\n",
              "      <td>-1.695028</td>\n",
              "      <td>-1.339727</td>\n",
              "    </tr>\n",
              "    <tr>\n",
              "      <th>4</th>\n",
              "      <td>-1.695028</td>\n",
              "      <td>-1.187316</td>\n",
              "    </tr>\n",
              "  </tbody>\n",
              "</table>\n",
              "</div>"
            ],
            "text/plain": [
              "         X1        X2\n",
              "0 -1.695028  1.708491\n",
              "1 -1.695028 -1.644549\n",
              "2 -1.695028 -1.492138\n",
              "3 -1.695028 -1.339727\n",
              "4 -1.695028 -1.187316"
            ]
          },
          "execution_count": 40,
          "metadata": {},
          "output_type": "execute_result"
        }
      ],
      "source": [
        "x.head()"
      ]
    },
    {
      "cell_type": "code",
      "execution_count": null,
      "metadata": {
        "id": "MgeKFQJOS3Zk"
      },
      "outputs": [],
      "source": [
        "RANDOM_STATE = 0\n",
        "from sklearn.model_selection import train_test_split\n",
        "from sklearn.ensemble import RandomForestRegressor\n",
        "from sklearn.metrics import mean_absolute_error\n",
        "X_train, X_val, y_train, y_val = train_test_split(x, y, train_size = 0.8, random_state = RANDOM_STATE)"
      ]
    },
    {
      "cell_type": "code",
      "execution_count": null,
      "metadata": {
        "id": "5ek4Nbc1S3Zk"
      },
      "outputs": [],
      "source": [
        "random_forest_model = RandomForestRegressor(n_estimators = 100,random_state=RANDOM_STATE).fit(X_train,y_train)"
      ]
    },
    {
      "cell_type": "code",
      "execution_count": null,
      "metadata": {
        "id": "OkGBy87cS3Zk",
        "outputId": "0931f412-c6ef-4285-fdb8-88ddadc810b7"
      },
      "outputs": [
        {
          "name": "stdout",
          "output_type": "stream",
          "text": [
            "Metrics train:\n",
            "\tMAE: 2.1453\n",
            "Metrics test:\n",
            "\tMAE: 2.0877\n"
          ]
        }
      ],
      "source": [
        "print(f\"Metrics train:\\n\\tMAE: {mean_absolute_error(random_forest_model.predict(X_train),y_train):.4f}\\nMetrics test:\\n\\tMAE: {mean_absolute_error(random_forest_model.predict(X_val),y_val):.4f}\")"
      ]
    },
    {
      "cell_type": "code",
      "execution_count": null,
      "metadata": {
        "id": "xJIynLmkS3Zl"
      },
      "outputs": [],
      "source": [
        "from sklearn.tree import DecisionTreeRegressor\n",
        "Decision_Tree_model = DecisionTreeRegressor(random_state=RANDOM_STATE).fit(X_train,y_train)"
      ]
    },
    {
      "cell_type": "code",
      "execution_count": null,
      "metadata": {
        "id": "Jf8Q2ezAS3Zl",
        "outputId": "a4bbd271-da0c-46da-f95b-ba3b5095c893"
      },
      "outputs": [
        {
          "name": "stdout",
          "output_type": "stream",
          "text": [
            "Metrics train:\n",
            "\tMAE: 2.1436\n",
            "Metrics test:\n",
            "\tMAE: 2.0860\n"
          ]
        }
      ],
      "source": [
        "print(f\"Metrics train:\\n\\tMAE: {mean_absolute_error(Decision_Tree_model.predict(X_train),y_train):.4f}\\nMetrics test:\\n\\tMAE: {mean_absolute_error(Decision_Tree_model.predict(X_val),y_val):.4f}\")"
      ]
    },
    {
      "cell_type": "code",
      "execution_count": null,
      "metadata": {
        "id": "3KxBZw5FS3Zl",
        "outputId": "1b318b19-9ce3-449f-e49a-7f68c2c502ae"
      },
      "outputs": [
        {
          "name": "stdout",
          "output_type": "stream",
          "text": [
            "Random Forest MAE: 2.087709666984503\n",
            "Decision Tree MAE: 2.086017329820139\n",
            "Ensemble MAE: 2.0868580724702563\n"
          ]
        }
      ],
      "source": [
        "from sklearn.ensemble import VotingRegressor\n",
        "from sklearn.metrics import mean_absolute_error\n",
        "\n",
        "# Create individual models\n",
        "rf_model = RandomForestRegressor(n_estimators=100, random_state=RANDOM_STATE)\n",
        "dt_model = DecisionTreeRegressor(random_state=RANDOM_STATE)\n",
        "\n",
        "\n",
        "# Train individual models\n",
        "rf_model.fit(X_train, y_train)\n",
        "dt_model.fit(X_train, y_train)\n",
        "\n",
        "# Make predictions with individual models\n",
        "rf_pred = rf_model.predict(X_val)\n",
        "dt_pred = dt_model.predict(X_val)\n",
        "\n",
        "# Evaluate individual models\n",
        "rf_MAE = mean_absolute_error(y_val, rf_pred)\n",
        "dt_MAE = mean_absolute_error(y_val, dt_pred)\n",
        "print(f'Random Forest MAE: {rf_MAE}')\n",
        "print(f'Decision Tree MAE: {dt_MAE}')\n",
        "\n",
        "# Create an ensemble model\n",
        "ensemble_model = VotingRegressor(estimators=[('Random Forest', rf_model), ('Decision Tree', dt_model)])\n",
        "ensemble_model.fit(X_train, y_train)\n",
        "\n",
        "# Make predictions with the ensemble model\n",
        "ensemble_pred = ensemble_model.predict(X_val)\n",
        "\n",
        "# Evaluate the ensemble model\n",
        "ensemble_MAE = mean_absolute_error(y_val, ensemble_pred)\n",
        "print(f'Ensemble MAE: {ensemble_MAE}')"
      ]
    },
    {
      "cell_type": "code",
      "execution_count": null,
      "metadata": {
        "id": "8hexLhotS3Zl",
        "outputId": "4b845840-d698-4ec3-b8f7-70a79ee0f379"
      },
      "outputs": [
        {
          "data": {
            "text/html": [
              "<div>\n",
              "<style scoped>\n",
              "    .dataframe tbody tr th:only-of-type {\n",
              "        vertical-align: middle;\n",
              "    }\n",
              "\n",
              "    .dataframe tbody tr th {\n",
              "        vertical-align: top;\n",
              "    }\n",
              "\n",
              "    .dataframe thead th {\n",
              "        text-align: right;\n",
              "    }\n",
              "</style>\n",
              "<table border=\"1\" class=\"dataframe\">\n",
              "  <thead>\n",
              "    <tr style=\"text-align: right;\">\n",
              "      <th></th>\n",
              "      <th>X1</th>\n",
              "      <th>X2</th>\n",
              "    </tr>\n",
              "  </thead>\n",
              "  <tbody>\n",
              "    <tr>\n",
              "      <th>count</th>\n",
              "      <td>4.299990e+05</td>\n",
              "      <td>4.299990e+05</td>\n",
              "    </tr>\n",
              "    <tr>\n",
              "      <th>mean</th>\n",
              "      <td>8.162998e-17</td>\n",
              "      <td>-6.743562e-17</td>\n",
              "    </tr>\n",
              "    <tr>\n",
              "      <th>std</th>\n",
              "      <td>1.000001e+00</td>\n",
              "      <td>1.000001e+00</td>\n",
              "    </tr>\n",
              "    <tr>\n",
              "      <th>min</th>\n",
              "      <td>-1.695028e+00</td>\n",
              "      <td>-1.644549e+00</td>\n",
              "    </tr>\n",
              "    <tr>\n",
              "      <th>25%</th>\n",
              "      <td>-8.990684e-01</td>\n",
              "      <td>-8.824942e-01</td>\n",
              "    </tr>\n",
              "    <tr>\n",
              "      <th>50%</th>\n",
              "      <td>-3.614219e-03</td>\n",
              "      <td>3.197128e-02</td>\n",
              "    </tr>\n",
              "    <tr>\n",
              "      <th>75%</th>\n",
              "      <td>8.918399e-01</td>\n",
              "      <td>7.940258e-01</td>\n",
              "    </tr>\n",
              "    <tr>\n",
              "      <th>max</th>\n",
              "      <td>1.687799e+00</td>\n",
              "      <td>1.708491e+00</td>\n",
              "    </tr>\n",
              "  </tbody>\n",
              "</table>\n",
              "</div>"
            ],
            "text/plain": [
              "                 X1            X2\n",
              "count  4.299990e+05  4.299990e+05\n",
              "mean   8.162998e-17 -6.743562e-17\n",
              "std    1.000001e+00  1.000001e+00\n",
              "min   -1.695028e+00 -1.644549e+00\n",
              "25%   -8.990684e-01 -8.824942e-01\n",
              "50%   -3.614219e-03  3.197128e-02\n",
              "75%    8.918399e-01  7.940258e-01\n",
              "max    1.687799e+00  1.708491e+00"
            ]
          },
          "execution_count": 48,
          "metadata": {},
          "output_type": "execute_result"
        }
      ],
      "source": [
        "x.describe()"
      ]
    },
    {
      "cell_type": "code",
      "execution_count": null,
      "metadata": {
        "id": "AAjOYFI5S3Zl"
      },
      "outputs": [],
      "source": [
        "Decision_Tree_model = DecisionTreeRegressor(random_state=RANDOM_STATE).fit(x,y)"
      ]
    },
    {
      "cell_type": "code",
      "execution_count": null,
      "metadata": {
        "id": "aDhqsJjpS3Zm"
      },
      "outputs": [],
      "source": [
        "df_test = pd.read_csv('data_testing.csv',sep=';')"
      ]
    },
    {
      "cell_type": "code",
      "execution_count": null,
      "metadata": {
        "id": "aC4jq4KBS3Zm",
        "outputId": "e327b43a-c35e-4e9c-cf41-f7d5a479599f"
      },
      "outputs": [
        {
          "name": "stdout",
          "output_type": "stream",
          "text": [
            "<class 'pandas.core.frame.DataFrame'>\n",
            "RangeIndex: 47049 entries, 0 to 47048\n",
            "Data columns (total 4 columns):\n",
            " #   Column  Non-Null Count  Dtype \n",
            "---  ------  --------------  ----- \n",
            " 0   id      47049 non-null  object\n",
            " 1   Date    47049 non-null  object\n",
            " 2   X1      47049 non-null  object\n",
            " 3   X2      44971 non-null  object\n",
            "dtypes: object(4)\n",
            "memory usage: 1.4+ MB\n"
          ]
        }
      ],
      "source": [
        "df_test.info()"
      ]
    },
    {
      "cell_type": "code",
      "execution_count": null,
      "metadata": {
        "id": "xgRSqGNTS3Zm",
        "outputId": "9698ff48-815c-4996-d0a0-8ced69b96df0"
      },
      "outputs": [
        {
          "data": {
            "text/html": [
              "<div>\n",
              "<style scoped>\n",
              "    .dataframe tbody tr th:only-of-type {\n",
              "        vertical-align: middle;\n",
              "    }\n",
              "\n",
              "    .dataframe tbody tr th {\n",
              "        vertical-align: top;\n",
              "    }\n",
              "\n",
              "    .dataframe thead th {\n",
              "        text-align: right;\n",
              "    }\n",
              "</style>\n",
              "<table border=\"1\" class=\"dataframe\">\n",
              "  <thead>\n",
              "    <tr style=\"text-align: right;\">\n",
              "      <th></th>\n",
              "      <th>id</th>\n",
              "      <th>Date</th>\n",
              "      <th>X1</th>\n",
              "      <th>X2</th>\n",
              "    </tr>\n",
              "  </thead>\n",
              "  <tbody>\n",
              "    <tr>\n",
              "      <th>0</th>\n",
              "      <td>b1</td>\n",
              "      <td>30/07/22</td>\n",
              "      <td>Propinsi 04</td>\n",
              "      <td>Z</td>\n",
              "    </tr>\n",
              "    <tr>\n",
              "      <th>1</th>\n",
              "      <td>b2</td>\n",
              "      <td>30/07/22</td>\n",
              "      <td>Propinsi 05</td>\n",
              "      <td>NaN</td>\n",
              "    </tr>\n",
              "    <tr>\n",
              "      <th>2</th>\n",
              "      <td>b3</td>\n",
              "      <td>30/07/22</td>\n",
              "      <td>Propinsi 05</td>\n",
              "      <td>A</td>\n",
              "    </tr>\n",
              "    <tr>\n",
              "      <th>3</th>\n",
              "      <td>b4</td>\n",
              "      <td>30/07/22</td>\n",
              "      <td>Propinsi 05</td>\n",
              "      <td>B</td>\n",
              "    </tr>\n",
              "    <tr>\n",
              "      <th>4</th>\n",
              "      <td>b5</td>\n",
              "      <td>30/07/22</td>\n",
              "      <td>Propinsi 05</td>\n",
              "      <td>C</td>\n",
              "    </tr>\n",
              "  </tbody>\n",
              "</table>\n",
              "</div>"
            ],
            "text/plain": [
              "   id      Date           X1   X2\n",
              "0  b1  30/07/22  Propinsi 04    Z\n",
              "1  b2  30/07/22  Propinsi 05  NaN\n",
              "2  b3  30/07/22  Propinsi 05    A\n",
              "3  b4  30/07/22  Propinsi 05    B\n",
              "4  b5  30/07/22  Propinsi 05    C"
            ]
          },
          "execution_count": 52,
          "metadata": {},
          "output_type": "execute_result"
        }
      ],
      "source": [
        "df_test.head(5)"
      ]
    },
    {
      "cell_type": "code",
      "execution_count": null,
      "metadata": {
        "id": "xoJn1PSvS3Zm"
      },
      "outputs": [],
      "source": [
        "for i in df_test[features].columns:\n",
        "        if df_test[i].dtypes == object:\n",
        "            df_test[i] = labelencoder.fit_transform(df_test[i])"
      ]
    },
    {
      "cell_type": "code",
      "execution_count": null,
      "metadata": {
        "id": "gFDobha2S3Zm",
        "outputId": "a2afce59-8a7f-4bf7-bb1e-8878c077a14c"
      },
      "outputs": [
        {
          "data": {
            "text/html": [
              "<div>\n",
              "<style scoped>\n",
              "    .dataframe tbody tr th:only-of-type {\n",
              "        vertical-align: middle;\n",
              "    }\n",
              "\n",
              "    .dataframe tbody tr th {\n",
              "        vertical-align: top;\n",
              "    }\n",
              "\n",
              "    .dataframe thead th {\n",
              "        text-align: right;\n",
              "    }\n",
              "</style>\n",
              "<table border=\"1\" class=\"dataframe\">\n",
              "  <thead>\n",
              "    <tr style=\"text-align: right;\">\n",
              "      <th></th>\n",
              "      <th>id</th>\n",
              "      <th>Date</th>\n",
              "      <th>X1</th>\n",
              "      <th>X2</th>\n",
              "    </tr>\n",
              "  </thead>\n",
              "  <tbody>\n",
              "    <tr>\n",
              "      <th>0</th>\n",
              "      <td>b1</td>\n",
              "      <td>30/07/22</td>\n",
              "      <td>4</td>\n",
              "      <td>21</td>\n",
              "    </tr>\n",
              "    <tr>\n",
              "      <th>1</th>\n",
              "      <td>b2</td>\n",
              "      <td>30/07/22</td>\n",
              "      <td>5</td>\n",
              "      <td>22</td>\n",
              "    </tr>\n",
              "    <tr>\n",
              "      <th>2</th>\n",
              "      <td>b3</td>\n",
              "      <td>30/07/22</td>\n",
              "      <td>5</td>\n",
              "      <td>0</td>\n",
              "    </tr>\n",
              "    <tr>\n",
              "      <th>3</th>\n",
              "      <td>b4</td>\n",
              "      <td>30/07/22</td>\n",
              "      <td>5</td>\n",
              "      <td>1</td>\n",
              "    </tr>\n",
              "    <tr>\n",
              "      <th>4</th>\n",
              "      <td>b5</td>\n",
              "      <td>30/07/22</td>\n",
              "      <td>5</td>\n",
              "      <td>2</td>\n",
              "    </tr>\n",
              "    <tr>\n",
              "      <th>5</th>\n",
              "      <td>b6</td>\n",
              "      <td>30/07/22</td>\n",
              "      <td>5</td>\n",
              "      <td>3</td>\n",
              "    </tr>\n",
              "    <tr>\n",
              "      <th>6</th>\n",
              "      <td>b7</td>\n",
              "      <td>30/07/22</td>\n",
              "      <td>5</td>\n",
              "      <td>4</td>\n",
              "    </tr>\n",
              "    <tr>\n",
              "      <th>7</th>\n",
              "      <td>b8</td>\n",
              "      <td>30/07/22</td>\n",
              "      <td>5</td>\n",
              "      <td>5</td>\n",
              "    </tr>\n",
              "    <tr>\n",
              "      <th>8</th>\n",
              "      <td>b9</td>\n",
              "      <td>30/07/22</td>\n",
              "      <td>5</td>\n",
              "      <td>6</td>\n",
              "    </tr>\n",
              "    <tr>\n",
              "      <th>9</th>\n",
              "      <td>b10</td>\n",
              "      <td>30/07/22</td>\n",
              "      <td>5</td>\n",
              "      <td>7</td>\n",
              "    </tr>\n",
              "  </tbody>\n",
              "</table>\n",
              "</div>"
            ],
            "text/plain": [
              "    id      Date  X1  X2\n",
              "0   b1  30/07/22   4  21\n",
              "1   b2  30/07/22   5  22\n",
              "2   b3  30/07/22   5   0\n",
              "3   b4  30/07/22   5   1\n",
              "4   b5  30/07/22   5   2\n",
              "5   b6  30/07/22   5   3\n",
              "6   b7  30/07/22   5   4\n",
              "7   b8  30/07/22   5   5\n",
              "8   b9  30/07/22   5   6\n",
              "9  b10  30/07/22   5   7"
            ]
          },
          "execution_count": 54,
          "metadata": {},
          "output_type": "execute_result"
        }
      ],
      "source": [
        "df_test.head(10)"
      ]
    },
    {
      "cell_type": "code",
      "execution_count": null,
      "metadata": {
        "id": "_ppvKIOnS3Zm"
      },
      "outputs": [],
      "source": [
        "df_test[features]= pd.DataFrame(scaler.transform(df_test[features]),\n",
        "                              columns = df_test[features].columns)"
      ]
    },
    {
      "cell_type": "code",
      "execution_count": null,
      "metadata": {
        "id": "SDfPdAGvS3Zm",
        "outputId": "71fdd559-87fc-4420-f58a-3de2dd46c495"
      },
      "outputs": [
        {
          "data": {
            "text/html": [
              "<div>\n",
              "<style scoped>\n",
              "    .dataframe tbody tr th:only-of-type {\n",
              "        vertical-align: middle;\n",
              "    }\n",
              "\n",
              "    .dataframe tbody tr th {\n",
              "        vertical-align: top;\n",
              "    }\n",
              "\n",
              "    .dataframe thead th {\n",
              "        text-align: right;\n",
              "    }\n",
              "</style>\n",
              "<table border=\"1\" class=\"dataframe\">\n",
              "  <thead>\n",
              "    <tr style=\"text-align: right;\">\n",
              "      <th></th>\n",
              "      <th>X1</th>\n",
              "      <th>X2</th>\n",
              "    </tr>\n",
              "  </thead>\n",
              "  <tbody>\n",
              "    <tr>\n",
              "      <th>0</th>\n",
              "      <td>-1.297048</td>\n",
              "      <td>1.556080</td>\n",
              "    </tr>\n",
              "    <tr>\n",
              "      <th>1</th>\n",
              "      <td>-1.197553</td>\n",
              "      <td>1.708491</td>\n",
              "    </tr>\n",
              "    <tr>\n",
              "      <th>2</th>\n",
              "      <td>-1.197553</td>\n",
              "      <td>-1.644549</td>\n",
              "    </tr>\n",
              "    <tr>\n",
              "      <th>3</th>\n",
              "      <td>-1.197553</td>\n",
              "      <td>-1.492138</td>\n",
              "    </tr>\n",
              "    <tr>\n",
              "      <th>4</th>\n",
              "      <td>-1.197553</td>\n",
              "      <td>-1.339727</td>\n",
              "    </tr>\n",
              "    <tr>\n",
              "      <th>5</th>\n",
              "      <td>-1.197553</td>\n",
              "      <td>-1.187316</td>\n",
              "    </tr>\n",
              "    <tr>\n",
              "      <th>6</th>\n",
              "      <td>-1.197553</td>\n",
              "      <td>-1.034905</td>\n",
              "    </tr>\n",
              "    <tr>\n",
              "      <th>7</th>\n",
              "      <td>-1.197553</td>\n",
              "      <td>-0.882494</td>\n",
              "    </tr>\n",
              "    <tr>\n",
              "      <th>8</th>\n",
              "      <td>-1.197553</td>\n",
              "      <td>-0.730083</td>\n",
              "    </tr>\n",
              "    <tr>\n",
              "      <th>9</th>\n",
              "      <td>-1.197553</td>\n",
              "      <td>-0.577672</td>\n",
              "    </tr>\n",
              "  </tbody>\n",
              "</table>\n",
              "</div>"
            ],
            "text/plain": [
              "         X1        X2\n",
              "0 -1.297048  1.556080\n",
              "1 -1.197553  1.708491\n",
              "2 -1.197553 -1.644549\n",
              "3 -1.197553 -1.492138\n",
              "4 -1.197553 -1.339727\n",
              "5 -1.197553 -1.187316\n",
              "6 -1.197553 -1.034905\n",
              "7 -1.197553 -0.882494\n",
              "8 -1.197553 -0.730083\n",
              "9 -1.197553 -0.577672"
            ]
          },
          "execution_count": 56,
          "metadata": {},
          "output_type": "execute_result"
        }
      ],
      "source": [
        "df_test[features].head(10)"
      ]
    },
    {
      "cell_type": "code",
      "execution_count": null,
      "metadata": {
        "id": "33_yc1-3S3Zn"
      },
      "outputs": [],
      "source": [
        "predictions = Decision_Tree_model.predict(df_test[features])"
      ]
    },
    {
      "cell_type": "code",
      "execution_count": null,
      "metadata": {
        "id": "nftO3RxeS3Zn",
        "outputId": "7f9407b7-a8fb-449c-ab43-1b6cc10bc1dd"
      },
      "outputs": [
        {
          "data": {
            "text/plain": [
              "3.2388195760655156"
            ]
          },
          "execution_count": 58,
          "metadata": {},
          "output_type": "execute_result"
        }
      ],
      "source": [
        "predictions[0]"
      ]
    },
    {
      "cell_type": "code",
      "execution_count": null,
      "metadata": {
        "id": "vYSrdtW6S3Zn"
      },
      "outputs": [],
      "source": [
        "predictions = (predictions * 10000000000)"
      ]
    },
    {
      "cell_type": "code",
      "execution_count": null,
      "metadata": {
        "id": "kB5p_sJxS3Zn",
        "outputId": "7a09087d-a82e-408a-9a61-e46dfd0de0a1"
      },
      "outputs": [
        {
          "data": {
            "text/plain": [
              "32388195760.655155"
            ]
          },
          "execution_count": 60,
          "metadata": {},
          "output_type": "execute_result"
        }
      ],
      "source": [
        "predictions[0]"
      ]
    },
    {
      "cell_type": "code",
      "execution_count": null,
      "metadata": {
        "id": "um5EdK6OS3Zn"
      },
      "outputs": [],
      "source": [
        "output = pd.DataFrame({'id':df_test.id,'Y':predictions})\n",
        "output.to_csv('submission_9(04-11-2023).csv', index=False)"
      ]
    },
    {
      "cell_type": "code",
      "execution_count": null,
      "metadata": {
        "id": "HU_L4DrbS3Zn",
        "outputId": "c4ef793e-5ab9-45d1-826f-bda1639dc30b"
      },
      "outputs": [
        {
          "name": "stdout",
          "output_type": "stream",
          "text": [
            "<class 'pandas.core.frame.DataFrame'>\n",
            "RangeIndex: 47049 entries, 0 to 47048\n",
            "Data columns (total 2 columns):\n",
            " #   Column  Non-Null Count  Dtype  \n",
            "---  ------  --------------  -----  \n",
            " 0   id      47049 non-null  object \n",
            " 1   Y       47049 non-null  float64\n",
            "dtypes: float64(1), object(1)\n",
            "memory usage: 735.3+ KB\n"
          ]
        }
      ],
      "source": [
        "output.info()"
      ]
    },
    {
      "cell_type": "code",
      "execution_count": null,
      "metadata": {
        "id": "zfCO55tJS3Zn"
      },
      "outputs": [],
      "source": []
    }
  ],
  "metadata": {
    "kernelspec": {
      "display_name": "base",
      "language": "python",
      "name": "python3"
    },
    "language_info": {
      "codemirror_mode": {
        "name": "ipython",
        "version": 3
      },
      "file_extension": ".py",
      "mimetype": "text/x-python",
      "name": "python",
      "nbconvert_exporter": "python",
      "pygments_lexer": "ipython3",
      "version": "3.10.9"
    },
    "colab": {
      "provenance": []
    }
  },
  "nbformat": 4,
  "nbformat_minor": 0
}